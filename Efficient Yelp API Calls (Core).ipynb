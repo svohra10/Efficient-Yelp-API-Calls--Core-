{
 "cells": [
  {
   "cell_type": "code",
   "execution_count": 1,
   "id": "a14fef26",
   "metadata": {},
   "outputs": [
    {
     "name": "stdout",
     "output_type": "stream",
     "text": [
      "Requirement already satisfied: tqdm in /Users/sheelvohra/opt/anaconda3/envs/dojo-env/lib/python3.7/site-packages (4.64.0)\r\n"
     ]
    }
   ],
   "source": [
    "# !pip install yelpapi\n",
    "!pip install tqdm"
   ]
  },
  {
   "cell_type": "code",
   "execution_count": 2,
   "id": "52eacde3",
   "metadata": {},
   "outputs": [],
   "source": [
    "# Imports\n",
    "import numpy as np\n",
    "import pandas as pd\n",
    "import matplotlib.pyplot as plt\n",
    "import seaborn as sns\n",
    "\n",
    "import os, json, math, time\n",
    "from yelpapi import YelpAPI\n",
    "from tqdm.notebook import tqdm_notebook"
   ]
  },
  {
   "cell_type": "code",
   "execution_count": 3,
   "id": "98c1c38c",
   "metadata": {},
   "outputs": [
    {
     "data": {
      "text/plain": [
       "dict_keys(['client-id', 'api-key'])"
      ]
     },
     "execution_count": 3,
     "metadata": {},
     "output_type": "execute_result"
    }
   ],
   "source": [
    "# Load API Credentials\n",
    "with open('/Users/sheelvohra/.secret/yelp_api.json') as f: \n",
    "    login = json.load(f)\n",
    "login.keys()"
   ]
  },
  {
   "cell_type": "code",
   "execution_count": 4,
   "id": "e9e8daf4",
   "metadata": {},
   "outputs": [
    {
     "data": {
      "text/plain": [
       "<yelpapi.yelpapi.YelpAPI at 0x7fea11259190>"
      ]
     },
     "execution_count": 4,
     "metadata": {},
     "output_type": "execute_result"
    }
   ],
   "source": [
    "# Instantiate YelpAPI instance\n",
    "yelp_api = YelpAPI(login['api-key'], timeout_s=5.0)\n",
    "yelp_api"
   ]
  },
  {
   "cell_type": "code",
   "execution_count": 5,
   "id": "5b561542",
   "metadata": {},
   "outputs": [],
   "source": [
    "# Test API call\n",
    "results = yelp_api.search_query(location='Chicago, IL', term='pizza')"
   ]
  },
  {
   "cell_type": "code",
   "execution_count": 6,
   "id": "efb2bcfd",
   "metadata": {},
   "outputs": [
    {
     "data": {
      "text/plain": [
       "dict"
      ]
     },
     "execution_count": 6,
     "metadata": {},
     "output_type": "execute_result"
    }
   ],
   "source": [
    "type(results)"
   ]
  },
  {
   "cell_type": "code",
   "execution_count": 7,
   "id": "26f920d5",
   "metadata": {},
   "outputs": [
    {
     "data": {
      "text/plain": [
       "dict_keys(['businesses', 'total', 'region'])"
      ]
     },
     "execution_count": 7,
     "metadata": {},
     "output_type": "execute_result"
    }
   ],
   "source": [
    "results.keys()"
   ]
  },
  {
   "cell_type": "code",
   "execution_count": 8,
   "id": "8f8acd09",
   "metadata": {},
   "outputs": [],
   "source": [
    "# Set our API call parameters\n",
    "LOCATION = \"Chicago, IL 60622\"\n",
    "TERM = \"thai\""
   ]
  },
  {
   "cell_type": "code",
   "execution_count": 9,
   "id": "961bb689",
   "metadata": {},
   "outputs": [],
   "source": [
    "# Specify folder for saving data\n",
    "FOLDER = \"data/\"\n",
    "os.makedirs(FOLDER , exist_ok=True)"
   ]
  },
  {
   "cell_type": "code",
   "execution_count": 10,
   "id": "480018b5",
   "metadata": {},
   "outputs": [],
   "source": [
    "# Obtain the city from the location\n",
    "CITY = LOCATION.split(',')[0]"
   ]
  },
  {
   "cell_type": "code",
   "execution_count": 11,
   "id": "1466396d",
   "metadata": {},
   "outputs": [
    {
     "data": {
      "text/plain": [
       "'data/thai_Chicago.json'"
      ]
     },
     "execution_count": 11,
     "metadata": {},
     "output_type": "execute_result"
    }
   ],
   "source": [
    "JSON_FILE = f\"{FOLDER}{TERM}_{CITY}.json\"\n",
    "JSON_FILE"
   ]
  },
  {
   "cell_type": "code",
   "execution_count": 12,
   "id": "351a91e4",
   "metadata": {},
   "outputs": [
    {
     "data": {
      "text/plain": [
       "'data'"
      ]
     },
     "execution_count": 12,
     "metadata": {},
     "output_type": "execute_result"
    }
   ],
   "source": [
    "# Display the directory name of the JSON file\n",
    "os.path.dirname(JSON_FILE)\n"
   ]
  },
  {
   "cell_type": "code",
   "execution_count": 15,
   "id": "7149fa9e",
   "metadata": {},
   "outputs": [
    {
     "name": "stdout",
     "output_type": "stream",
     "text": [
      "[i] data/thai_Chicago.json already exists\n"
     ]
    }
   ],
   "source": [
    "# Check if JSON_FILE exists\n",
    "file_exists = os.path.isfile(JSON_FILE)\n",
    "# If it does not exist: \n",
    "if file_exists == False:\n",
    "    # Create any needed folders\n",
    "    # Get the folder name\n",
    "    folder = os.path.dirname(JSON_FILE)\n",
    "    # If JSON_FILE included a folder:\n",
    "    if len(folder)>0:\n",
    "        # create the folder\n",
    "        os.makedirs(folder,exist_ok=True)   \n",
    "    # Inform the user\n",
    "    print(f\"[i] {JSON_FILE} not found. Saving empty list to file.\")\n",
    "    # saving empty list\n",
    "    with open(JSON_FILE,'w') as f:\n",
    "        json.dump([], f)\n",
    "# Advise if the file already exists\n",
    "else:\n",
    "    print(f\"[i] {JSON_FILE} already exists\")"
   ]
  },
  {
   "cell_type": "code",
   "execution_count": 16,
   "id": "651450e9",
   "metadata": {},
   "outputs": [
    {
     "name": "stdout",
     "output_type": "stream",
     "text": [
      "- 0 previous results found.\n"
     ]
    }
   ],
   "source": [
    "# Load previous results and use len of results for offset\n",
    "with open(JSON_FILE,'r') as f:\n",
    "    previous_results = json.load(f)\n",
    "\n",
    "# Display the number of previous results\n",
    "n_results = len(previous_results)\n",
    "print(f'- {n_results} previous results found.')"
   ]
  },
  {
   "cell_type": "markdown",
   "id": "8b95524d",
   "metadata": {},
   "source": [
    "# Testing"
   ]
  },
  {
   "cell_type": "code",
   "execution_count": 17,
   "id": "ee1616fb",
   "metadata": {},
   "outputs": [],
   "source": [
    "# Use our yelp_api variable's search_query method to perform our API call\n",
    "results = yelp_api.search_query(term=TERM, location=LOCATION)"
   ]
  },
  {
   "cell_type": "code",
   "execution_count": 20,
   "id": "30b2c88a",
   "metadata": {},
   "outputs": [
    {
     "data": {
      "text/plain": [
       "dict_keys(['businesses', 'total', 'region'])"
      ]
     },
     "execution_count": 20,
     "metadata": {},
     "output_type": "execute_result"
    }
   ],
   "source": [
    "results.keys()"
   ]
  },
  {
   "cell_type": "code",
   "execution_count": 21,
   "id": "c51dd6c8",
   "metadata": {},
   "outputs": [
    {
     "data": {
      "text/plain": [
       "193"
      ]
     },
     "execution_count": 21,
     "metadata": {},
     "output_type": "execute_result"
    }
   ],
   "source": [
    "# Display the total number of results\n",
    "results['total']\n"
   ]
  },
  {
   "cell_type": "code",
   "execution_count": 22,
   "id": "5eec5d65",
   "metadata": {},
   "outputs": [
    {
     "data": {
      "text/plain": [
       "list"
      ]
     },
     "execution_count": 22,
     "metadata": {},
     "output_type": "execute_result"
    }
   ],
   "source": [
    "# Display the businesses datatype\n",
    "type(results['businesses'])"
   ]
  },
  {
   "cell_type": "code",
   "execution_count": 23,
   "id": "b0e416d1",
   "metadata": {},
   "outputs": [
    {
     "data": {
      "text/plain": [
       "20"
      ]
     },
     "execution_count": 23,
     "metadata": {},
     "output_type": "execute_result"
    }
   ],
   "source": [
    "# Calculate the number of results per page \n",
    "results_per_page = len(results['businesses'])\n",
    "# Display the number of results per page  \n",
    "results_per_page"
   ]
  },
  {
   "cell_type": "code",
   "execution_count": 24,
   "id": "e6599578",
   "metadata": {},
   "outputs": [
    {
     "data": {
      "text/plain": [
       "10"
      ]
     },
     "execution_count": 24,
     "metadata": {},
     "output_type": "execute_result"
    }
   ],
   "source": [
    "# Calculate how many pages of results needed to cover the total_results\n",
    "# Use math.ceil to round up for the total number of pages of results.\n",
    "n_pages = math.ceil(results['total'] / results_per_page)\n",
    "n_pages"
   ]
  },
  {
   "cell_type": "code",
   "execution_count": 26,
   "id": "9314c6c6",
   "metadata": {},
   "outputs": [
    {
     "data": {
      "application/vnd.jupyter.widget-view+json": {
       "model_id": "f6086fc9972942159b372dc7b1f3945d",
       "version_major": 2,
       "version_minor": 0
      },
      "text/plain": [
       "  0%|          | 0/11 [00:00<?, ?it/s]"
      ]
     },
     "metadata": {},
     "output_type": "display_data"
    }
   ],
   "source": [
    "# Loop through pages and append API call results to the JSON file\n",
    "for i in tqdm_notebook(range(0, n_pages+1)):\n",
    "    try:\n",
    "        time.sleep(.2)\n",
    "        # Load JSON file\n",
    "        with open(JSON_FILE,'r') as f:\n",
    "            previous_results = json.load(f)\n",
    "        # Obtain current number of results in JSON file\n",
    "        n_results = len(previous_results)\n",
    "        # Obtain next page of results\n",
    "        results = yelp_api.search_query(term=TERM, \n",
    "                                        location=LOCATION,\n",
    "                                        offset=n_results+1)\n",
    "        # Append this page of results and save to file\n",
    "        previous_results.extend( results['businesses'])\n",
    "        with open(JSON_FILE,'w') as f:\n",
    "            json.dump(previous_results, f)\n",
    "    # If there is an error exception, print the error message and break\n",
    "    except Exception as e:\n",
    "        print(e)\n",
    "        break"
   ]
  },
  {
   "cell_type": "code",
   "execution_count": 27,
   "id": "ebac1880",
   "metadata": {},
   "outputs": [
    {
     "data": {
      "text/html": [
       "<div>\n",
       "<style scoped>\n",
       "    .dataframe tbody tr th:only-of-type {\n",
       "        vertical-align: middle;\n",
       "    }\n",
       "\n",
       "    .dataframe tbody tr th {\n",
       "        vertical-align: top;\n",
       "    }\n",
       "\n",
       "    .dataframe thead th {\n",
       "        text-align: right;\n",
       "    }\n",
       "</style>\n",
       "<table border=\"1\" class=\"dataframe\">\n",
       "  <thead>\n",
       "    <tr style=\"text-align: right;\">\n",
       "      <th></th>\n",
       "      <th>id</th>\n",
       "      <th>alias</th>\n",
       "      <th>name</th>\n",
       "      <th>image_url</th>\n",
       "      <th>is_closed</th>\n",
       "      <th>url</th>\n",
       "      <th>review_count</th>\n",
       "      <th>categories</th>\n",
       "      <th>rating</th>\n",
       "      <th>coordinates</th>\n",
       "      <th>transactions</th>\n",
       "      <th>price</th>\n",
       "      <th>location</th>\n",
       "      <th>phone</th>\n",
       "      <th>display_phone</th>\n",
       "      <th>distance</th>\n",
       "    </tr>\n",
       "  </thead>\n",
       "  <tbody>\n",
       "    <tr>\n",
       "      <th>0</th>\n",
       "      <td>p2cCK4Vu-3L-skOMd93VVg</td>\n",
       "      <td>jj-thai-street-food-chicago</td>\n",
       "      <td>JJ Thai Street Food</td>\n",
       "      <td>https://s3-media4.fl.yelpcdn.com/bphoto/q8CXoP...</td>\n",
       "      <td>False</td>\n",
       "      <td>https://www.yelp.com/biz/jj-thai-street-food-c...</td>\n",
       "      <td>399</td>\n",
       "      <td>[{'alias': 'thai', 'title': 'Thai'}]</td>\n",
       "      <td>4.5</td>\n",
       "      <td>{'latitude': 41.8958251, 'longitude': -87.6703...</td>\n",
       "      <td>[delivery, pickup]</td>\n",
       "      <td>$$</td>\n",
       "      <td>{'address1': '1715 W Chicago Ave', 'address2':...</td>\n",
       "      <td>+13129294435</td>\n",
       "      <td>(312) 929-4435</td>\n",
       "      <td>1612.454741</td>\n",
       "    </tr>\n",
       "    <tr>\n",
       "      <th>1</th>\n",
       "      <td>kuJLjqq0m_tWfkgkMV6WrA</td>\n",
       "      <td>sweet-rice-asian-kitchen-chicago</td>\n",
       "      <td>Sweet Rice Asian Kitchen</td>\n",
       "      <td>https://s3-media3.fl.yelpcdn.com/bphoto/-YeUNP...</td>\n",
       "      <td>False</td>\n",
       "      <td>https://www.yelp.com/biz/sweet-rice-asian-kitc...</td>\n",
       "      <td>28</td>\n",
       "      <td>[{'alias': 'thai', 'title': 'Thai'}, {'alias':...</td>\n",
       "      <td>5.0</td>\n",
       "      <td>{'latitude': 41.915980361557416, 'longitude': ...</td>\n",
       "      <td>[pickup, delivery]</td>\n",
       "      <td>$$</td>\n",
       "      <td>{'address1': '1904 N Western Ave', 'address2':...</td>\n",
       "      <td>+17736612743</td>\n",
       "      <td>(773) 661-2743</td>\n",
       "      <td>1383.159973</td>\n",
       "    </tr>\n",
       "    <tr>\n",
       "      <th>2</th>\n",
       "      <td>bg20bWGO5cD7A873sEb9kw</td>\n",
       "      <td>silom-12-chicago</td>\n",
       "      <td>Silom 12</td>\n",
       "      <td>https://s3-media4.fl.yelpcdn.com/bphoto/6-ueD1...</td>\n",
       "      <td>False</td>\n",
       "      <td>https://www.yelp.com/biz/silom-12-chicago?adju...</td>\n",
       "      <td>474</td>\n",
       "      <td>[{'alias': 'thai', 'title': 'Thai'}]</td>\n",
       "      <td>4.0</td>\n",
       "      <td>{'latitude': 41.91487, 'longitude': -87.68488}</td>\n",
       "      <td>[pickup, delivery]</td>\n",
       "      <td>$$</td>\n",
       "      <td>{'address1': '1846-48 N Milwaukee Ave', 'addre...</td>\n",
       "      <td>+17734891212</td>\n",
       "      <td>(773) 489-1212</td>\n",
       "      <td>1272.165974</td>\n",
       "    </tr>\n",
       "    <tr>\n",
       "      <th>3</th>\n",
       "      <td>c-mWMo-TcHiVrr6_OenOxg</td>\n",
       "      <td>noble-thai-chicago</td>\n",
       "      <td>Noble Thai</td>\n",
       "      <td>https://s3-media4.fl.yelpcdn.com/bphoto/_e64FP...</td>\n",
       "      <td>False</td>\n",
       "      <td>https://www.yelp.com/biz/noble-thai-chicago?ad...</td>\n",
       "      <td>53</td>\n",
       "      <td>[{'alias': 'thai', 'title': 'Thai'}, {'alias':...</td>\n",
       "      <td>4.5</td>\n",
       "      <td>{'latitude': 41.8959, 'longitude': -87.66216}</td>\n",
       "      <td>[pickup, delivery]</td>\n",
       "      <td>NaN</td>\n",
       "      <td>{'address1': '1371 W Chicago Ave', 'address2':...</td>\n",
       "      <td>+13128461867</td>\n",
       "      <td>(312) 846-1867</td>\n",
       "      <td>2209.580396</td>\n",
       "    </tr>\n",
       "    <tr>\n",
       "      <th>4</th>\n",
       "      <td>VH6O_2qSPkTme_s-1Y1nXQ</td>\n",
       "      <td>three-wheels-noodle-chicago</td>\n",
       "      <td>Three Wheels Noodle</td>\n",
       "      <td>https://s3-media2.fl.yelpcdn.com/bphoto/WJC6ch...</td>\n",
       "      <td>False</td>\n",
       "      <td>https://www.yelp.com/biz/three-wheels-noodle-c...</td>\n",
       "      <td>139</td>\n",
       "      <td>[{'alias': 'thai', 'title': 'Thai'}]</td>\n",
       "      <td>4.5</td>\n",
       "      <td>{'latitude': 41.92396, 'longitude': -87.69839}</td>\n",
       "      <td>[pickup, delivery]</td>\n",
       "      <td>$$</td>\n",
       "      <td>{'address1': '2339 N Milwaukee Ave', 'address2...</td>\n",
       "      <td>+17733608288</td>\n",
       "      <td>(773) 360-8288</td>\n",
       "      <td>2457.241713</td>\n",
       "    </tr>\n",
       "    <tr>\n",
       "      <th>...</th>\n",
       "      <td>...</td>\n",
       "      <td>...</td>\n",
       "      <td>...</td>\n",
       "      <td>...</td>\n",
       "      <td>...</td>\n",
       "      <td>...</td>\n",
       "      <td>...</td>\n",
       "      <td>...</td>\n",
       "      <td>...</td>\n",
       "      <td>...</td>\n",
       "      <td>...</td>\n",
       "      <td>...</td>\n",
       "      <td>...</td>\n",
       "      <td>...</td>\n",
       "      <td>...</td>\n",
       "      <td>...</td>\n",
       "    </tr>\n",
       "    <tr>\n",
       "      <th>187</th>\n",
       "      <td>pqO59Dor8BZGJsDvlJshrQ</td>\n",
       "      <td>new-tokyo-chicago</td>\n",
       "      <td>New Tokyo</td>\n",
       "      <td>https://s3-media1.fl.yelpcdn.com/bphoto/P7i3EM...</td>\n",
       "      <td>False</td>\n",
       "      <td>https://www.yelp.com/biz/new-tokyo-chicago?adj...</td>\n",
       "      <td>221</td>\n",
       "      <td>[{'alias': 'japanese', 'title': 'Japanese'}, {...</td>\n",
       "      <td>3.5</td>\n",
       "      <td>{'latitude': 41.93895, 'longitude': -87.64414}</td>\n",
       "      <td>[delivery, pickup]</td>\n",
       "      <td>$$</td>\n",
       "      <td>{'address1': '3139 N Broadway St', 'address2':...</td>\n",
       "      <td>+17732481193</td>\n",
       "      <td>(773) 248-1193</td>\n",
       "      <td>5279.559180</td>\n",
       "    </tr>\n",
       "    <tr>\n",
       "      <th>188</th>\n",
       "      <td>Brl55B0WFo3N7YzprXrvSw</td>\n",
       "      <td>panera-bread-chicago-7</td>\n",
       "      <td>Panera Bread</td>\n",
       "      <td>https://s3-media2.fl.yelpcdn.com/bphoto/gjC5iw...</td>\n",
       "      <td>False</td>\n",
       "      <td>https://www.yelp.com/biz/panera-bread-chicago-...</td>\n",
       "      <td>127</td>\n",
       "      <td>[{'alias': 'sandwiches', 'title': 'Sandwiches'...</td>\n",
       "      <td>3.0</td>\n",
       "      <td>{'latitude': 41.86877712736723, 'longitude': -...</td>\n",
       "      <td>[delivery, pickup]</td>\n",
       "      <td>$$</td>\n",
       "      <td>{'address1': '1101 South Canal Street', 'addre...</td>\n",
       "      <td>+13127861761</td>\n",
       "      <td>(312) 786-1761</td>\n",
       "      <td>5553.555467</td>\n",
       "    </tr>\n",
       "    <tr>\n",
       "      <th>189</th>\n",
       "      <td>kr2ipJbSnYUYI0fdwQizaw</td>\n",
       "      <td>soupbox-chicago-4</td>\n",
       "      <td>Soupbox</td>\n",
       "      <td>https://s3-media2.fl.yelpcdn.com/bphoto/su3_u-...</td>\n",
       "      <td>False</td>\n",
       "      <td>https://www.yelp.com/biz/soupbox-chicago-4?adj...</td>\n",
       "      <td>610</td>\n",
       "      <td>[{'alias': 'soup', 'title': 'Soup'}, {'alias':...</td>\n",
       "      <td>3.5</td>\n",
       "      <td>{'latitude': 41.936229, 'longitude': -87.644115}</td>\n",
       "      <td>[delivery, pickup]</td>\n",
       "      <td>$$</td>\n",
       "      <td>{'address1': '2943 N Broadway St', 'address2':...</td>\n",
       "      <td>+17739359800</td>\n",
       "      <td>(773) 935-9800</td>\n",
       "      <td>5070.702717</td>\n",
       "    </tr>\n",
       "    <tr>\n",
       "      <th>190</th>\n",
       "      <td>bnIJC1iAHGq0VBWCjIvR7g</td>\n",
       "      <td>panera-bread-chicago-14</td>\n",
       "      <td>Panera Bread</td>\n",
       "      <td>https://s3-media1.fl.yelpcdn.com/bphoto/ZoPWLP...</td>\n",
       "      <td>False</td>\n",
       "      <td>https://www.yelp.com/biz/panera-bread-chicago-...</td>\n",
       "      <td>92</td>\n",
       "      <td>[{'alias': 'sandwiches', 'title': 'Sandwiches'...</td>\n",
       "      <td>3.0</td>\n",
       "      <td>{'latitude': 41.90404, 'longitude': -87.638714}</td>\n",
       "      <td>[delivery, pickup]</td>\n",
       "      <td>$</td>\n",
       "      <td>{'address1': '400 West Division Street', 'addr...</td>\n",
       "      <td>+13123372304</td>\n",
       "      <td>(312) 337-2304</td>\n",
       "      <td>3985.111724</td>\n",
       "    </tr>\n",
       "    <tr>\n",
       "      <th>191</th>\n",
       "      <td>ENCTUayR_cw6Q6ueH091bQ</td>\n",
       "      <td>noodles-and-company-chicago-13</td>\n",
       "      <td>Noodles &amp; Company</td>\n",
       "      <td>https://s3-media2.fl.yelpcdn.com/bphoto/svy3P4...</td>\n",
       "      <td>False</td>\n",
       "      <td>https://www.yelp.com/biz/noodles-and-company-c...</td>\n",
       "      <td>75</td>\n",
       "      <td>[{'alias': 'noodles', 'title': 'Noodles'}, {'a...</td>\n",
       "      <td>2.5</td>\n",
       "      <td>{'latitude': 41.8689925782538, 'longitude': -8...</td>\n",
       "      <td>[delivery, pickup]</td>\n",
       "      <td>$</td>\n",
       "      <td>{'address1': '1022 S Canal St', 'address2': ''...</td>\n",
       "      <td>+13125881982</td>\n",
       "      <td>(312) 588-1982</td>\n",
       "      <td>5481.525839</td>\n",
       "    </tr>\n",
       "  </tbody>\n",
       "</table>\n",
       "<p>192 rows × 16 columns</p>\n",
       "</div>"
      ],
      "text/plain": [
       "                         id                             alias  \\\n",
       "0    p2cCK4Vu-3L-skOMd93VVg       jj-thai-street-food-chicago   \n",
       "1    kuJLjqq0m_tWfkgkMV6WrA  sweet-rice-asian-kitchen-chicago   \n",
       "2    bg20bWGO5cD7A873sEb9kw                  silom-12-chicago   \n",
       "3    c-mWMo-TcHiVrr6_OenOxg                noble-thai-chicago   \n",
       "4    VH6O_2qSPkTme_s-1Y1nXQ       three-wheels-noodle-chicago   \n",
       "..                      ...                               ...   \n",
       "187  pqO59Dor8BZGJsDvlJshrQ                 new-tokyo-chicago   \n",
       "188  Brl55B0WFo3N7YzprXrvSw            panera-bread-chicago-7   \n",
       "189  kr2ipJbSnYUYI0fdwQizaw                 soupbox-chicago-4   \n",
       "190  bnIJC1iAHGq0VBWCjIvR7g           panera-bread-chicago-14   \n",
       "191  ENCTUayR_cw6Q6ueH091bQ    noodles-and-company-chicago-13   \n",
       "\n",
       "                         name  \\\n",
       "0         JJ Thai Street Food   \n",
       "1    Sweet Rice Asian Kitchen   \n",
       "2                    Silom 12   \n",
       "3                  Noble Thai   \n",
       "4         Three Wheels Noodle   \n",
       "..                        ...   \n",
       "187                 New Tokyo   \n",
       "188              Panera Bread   \n",
       "189                   Soupbox   \n",
       "190              Panera Bread   \n",
       "191         Noodles & Company   \n",
       "\n",
       "                                             image_url  is_closed  \\\n",
       "0    https://s3-media4.fl.yelpcdn.com/bphoto/q8CXoP...      False   \n",
       "1    https://s3-media3.fl.yelpcdn.com/bphoto/-YeUNP...      False   \n",
       "2    https://s3-media4.fl.yelpcdn.com/bphoto/6-ueD1...      False   \n",
       "3    https://s3-media4.fl.yelpcdn.com/bphoto/_e64FP...      False   \n",
       "4    https://s3-media2.fl.yelpcdn.com/bphoto/WJC6ch...      False   \n",
       "..                                                 ...        ...   \n",
       "187  https://s3-media1.fl.yelpcdn.com/bphoto/P7i3EM...      False   \n",
       "188  https://s3-media2.fl.yelpcdn.com/bphoto/gjC5iw...      False   \n",
       "189  https://s3-media2.fl.yelpcdn.com/bphoto/su3_u-...      False   \n",
       "190  https://s3-media1.fl.yelpcdn.com/bphoto/ZoPWLP...      False   \n",
       "191  https://s3-media2.fl.yelpcdn.com/bphoto/svy3P4...      False   \n",
       "\n",
       "                                                   url  review_count  \\\n",
       "0    https://www.yelp.com/biz/jj-thai-street-food-c...           399   \n",
       "1    https://www.yelp.com/biz/sweet-rice-asian-kitc...            28   \n",
       "2    https://www.yelp.com/biz/silom-12-chicago?adju...           474   \n",
       "3    https://www.yelp.com/biz/noble-thai-chicago?ad...            53   \n",
       "4    https://www.yelp.com/biz/three-wheels-noodle-c...           139   \n",
       "..                                                 ...           ...   \n",
       "187  https://www.yelp.com/biz/new-tokyo-chicago?adj...           221   \n",
       "188  https://www.yelp.com/biz/panera-bread-chicago-...           127   \n",
       "189  https://www.yelp.com/biz/soupbox-chicago-4?adj...           610   \n",
       "190  https://www.yelp.com/biz/panera-bread-chicago-...            92   \n",
       "191  https://www.yelp.com/biz/noodles-and-company-c...            75   \n",
       "\n",
       "                                            categories  rating  \\\n",
       "0                 [{'alias': 'thai', 'title': 'Thai'}]     4.5   \n",
       "1    [{'alias': 'thai', 'title': 'Thai'}, {'alias':...     5.0   \n",
       "2                 [{'alias': 'thai', 'title': 'Thai'}]     4.0   \n",
       "3    [{'alias': 'thai', 'title': 'Thai'}, {'alias':...     4.5   \n",
       "4                 [{'alias': 'thai', 'title': 'Thai'}]     4.5   \n",
       "..                                                 ...     ...   \n",
       "187  [{'alias': 'japanese', 'title': 'Japanese'}, {...     3.5   \n",
       "188  [{'alias': 'sandwiches', 'title': 'Sandwiches'...     3.0   \n",
       "189  [{'alias': 'soup', 'title': 'Soup'}, {'alias':...     3.5   \n",
       "190  [{'alias': 'sandwiches', 'title': 'Sandwiches'...     3.0   \n",
       "191  [{'alias': 'noodles', 'title': 'Noodles'}, {'a...     2.5   \n",
       "\n",
       "                                           coordinates        transactions  \\\n",
       "0    {'latitude': 41.8958251, 'longitude': -87.6703...  [delivery, pickup]   \n",
       "1    {'latitude': 41.915980361557416, 'longitude': ...  [pickup, delivery]   \n",
       "2       {'latitude': 41.91487, 'longitude': -87.68488}  [pickup, delivery]   \n",
       "3        {'latitude': 41.8959, 'longitude': -87.66216}  [pickup, delivery]   \n",
       "4       {'latitude': 41.92396, 'longitude': -87.69839}  [pickup, delivery]   \n",
       "..                                                 ...                 ...   \n",
       "187     {'latitude': 41.93895, 'longitude': -87.64414}  [delivery, pickup]   \n",
       "188  {'latitude': 41.86877712736723, 'longitude': -...  [delivery, pickup]   \n",
       "189   {'latitude': 41.936229, 'longitude': -87.644115}  [delivery, pickup]   \n",
       "190    {'latitude': 41.90404, 'longitude': -87.638714}  [delivery, pickup]   \n",
       "191  {'latitude': 41.8689925782538, 'longitude': -8...  [delivery, pickup]   \n",
       "\n",
       "    price                                           location         phone  \\\n",
       "0      $$  {'address1': '1715 W Chicago Ave', 'address2':...  +13129294435   \n",
       "1      $$  {'address1': '1904 N Western Ave', 'address2':...  +17736612743   \n",
       "2      $$  {'address1': '1846-48 N Milwaukee Ave', 'addre...  +17734891212   \n",
       "3     NaN  {'address1': '1371 W Chicago Ave', 'address2':...  +13128461867   \n",
       "4      $$  {'address1': '2339 N Milwaukee Ave', 'address2...  +17733608288   \n",
       "..    ...                                                ...           ...   \n",
       "187    $$  {'address1': '3139 N Broadway St', 'address2':...  +17732481193   \n",
       "188    $$  {'address1': '1101 South Canal Street', 'addre...  +13127861761   \n",
       "189    $$  {'address1': '2943 N Broadway St', 'address2':...  +17739359800   \n",
       "190     $  {'address1': '400 West Division Street', 'addr...  +13123372304   \n",
       "191     $  {'address1': '1022 S Canal St', 'address2': ''...  +13125881982   \n",
       "\n",
       "      display_phone     distance  \n",
       "0    (312) 929-4435  1612.454741  \n",
       "1    (773) 661-2743  1383.159973  \n",
       "2    (773) 489-1212  1272.165974  \n",
       "3    (312) 846-1867  2209.580396  \n",
       "4    (773) 360-8288  2457.241713  \n",
       "..              ...          ...  \n",
       "187  (773) 248-1193  5279.559180  \n",
       "188  (312) 786-1761  5553.555467  \n",
       "189  (773) 935-9800  5070.702717  \n",
       "190  (312) 337-2304  3985.111724  \n",
       "191  (312) 588-1982  5481.525839  \n",
       "\n",
       "[192 rows x 16 columns]"
      ]
     },
     "execution_count": 27,
     "metadata": {},
     "output_type": "execute_result"
    }
   ],
   "source": [
    "# Creat a dataframe for the JSON file\n",
    "df = pd.read_json(JSON_FILE)\n",
    "# View head and tail of dataframe\n",
    "df"
   ]
  },
  {
   "cell_type": "code",
   "execution_count": 28,
   "id": "6338b117",
   "metadata": {},
   "outputs": [
    {
     "data": {
      "text/plain": [
       "0"
      ]
     },
     "execution_count": 28,
     "metadata": {},
     "output_type": "execute_result"
    }
   ],
   "source": [
    "df.duplicated(subset='id').sum()"
   ]
  },
  {
   "cell_type": "code",
   "execution_count": 29,
   "id": "43fb6791",
   "metadata": {},
   "outputs": [
    {
     "data": {
      "text/plain": [
       "'data/thai_Chicago.csv.gz'"
      ]
     },
     "execution_count": 29,
     "metadata": {},
     "output_type": "execute_result"
    }
   ],
   "source": [
    "# Convert the filename to a .csv.gz\n",
    "csv_file = JSON_FILE.replace('.json','.csv.gz')\n",
    "# Display the file name\n",
    "csv_file"
   ]
  },
  {
   "cell_type": "code",
   "execution_count": 32,
   "id": "1a9f8d75",
   "metadata": {},
   "outputs": [],
   "source": [
    "# Save it as a compressed csv (to save space)\n",
    "df.to_csv(csv_file, compression='gzip', index=False)"
   ]
  },
  {
   "cell_type": "code",
   "execution_count": 33,
   "id": "426af65f",
   "metadata": {},
   "outputs": [
    {
     "name": "stdout",
     "output_type": "stream",
     "text": [
      "JSON FILE: 186,436 Bytes\n",
      "CSV.GZ FILE: 26,017 Bytes\n",
      "\n",
      "\n",
      "The csv.gz is 7.17 times smaller!\n"
     ]
    }
   ],
   "source": [
    "size_json = os.path.getsize(JSON_FILE)\n",
    "size_csv_gz = os.path.getsize(csv_file)\n",
    "\n",
    "print(f'JSON FILE: {size_json:,} Bytes')\n",
    "print(f'CSV.GZ FILE: {size_csv_gz:,} Bytes')\n",
    "print('\\n')\n",
    "print(f'The csv.gz is {size_json/size_csv_gz:.2f} times smaller!')"
   ]
  },
  {
   "cell_type": "code",
   "execution_count": null,
   "id": "203833e7",
   "metadata": {},
   "outputs": [],
   "source": []
  }
 ],
 "metadata": {
  "kernelspec": {
   "display_name": "Python (dojo-env)",
   "language": "python",
   "name": "dojo-env"
  },
  "language_info": {
   "codemirror_mode": {
    "name": "ipython",
    "version": 3
   },
   "file_extension": ".py",
   "mimetype": "text/x-python",
   "name": "python",
   "nbconvert_exporter": "python",
   "pygments_lexer": "ipython3",
   "version": "3.7.12"
  },
  "toc": {
   "base_numbering": 1,
   "nav_menu": {},
   "number_sections": true,
   "sideBar": true,
   "skip_h1_title": false,
   "title_cell": "Table of Contents",
   "title_sidebar": "Contents",
   "toc_cell": false,
   "toc_position": {},
   "toc_section_display": true,
   "toc_window_display": false
  }
 },
 "nbformat": 4,
 "nbformat_minor": 5
}
